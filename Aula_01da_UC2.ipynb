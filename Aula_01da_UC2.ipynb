{
  "nbformat": 4,
  "nbformat_minor": 0,
  "metadata": {
    "colab": {
      "provenance": [],
      "toc_visible": true,
      "authorship_tag": "ABX9TyMdyyj+AKlk7lA0QHFVlsYC",
      "include_colab_link": true
    },
    "kernelspec": {
      "name": "python3",
      "display_name": "Python 3"
    },
    "language_info": {
      "name": "python"
    }
  },
  "cells": [
    {
      "cell_type": "markdown",
      "metadata": {
        "id": "view-in-github",
        "colab_type": "text"
      },
      "source": [
        "<a href=\"https://colab.research.google.com/github/Bruna298/Mulheres-Tech/blob/main/Aula_01da_UC2.ipynb\" target=\"_parent\"><img src=\"https://colab.research.google.com/assets/colab-badge.svg\" alt=\"Open In Colab\"/></a>"
      ]
    },
    {
      "cell_type": "markdown",
      "source": [
        "Criar Manipular e apresentar dados utilizando estatistica descritiva."
      ],
      "metadata": {
        "id": "soZBfSoPbu-H"
      }
    },
    {
      "cell_type": "code",
      "execution_count": 10,
      "metadata": {
        "id": "eJ1RHic-V6bF"
      },
      "outputs": [],
      "source": [
        " import numpy as np    #Sempre rodar o código antes de ir para a proxima cotinuação"
      ]
    },
    {
      "cell_type": "code",
      "source": [
        "N = [10,8,5,6]\n",
        "N_array = np.array (N)\n",
        "N_array"
      ],
      "metadata": {
        "colab": {
          "base_uri": "https://localhost:8080/"
        },
        "id": "JPavcOQXWJaf",
        "outputId": "b5bede03-b070-4159-9e32-afc289b3fc7b"
      },
      "execution_count": 11,
      "outputs": [
        {
          "output_type": "execute_result",
          "data": {
            "text/plain": [
              "array([10,  8,  5,  6])"
            ]
          },
          "metadata": {},
          "execution_count": 11
        }
      ]
    },
    {
      "cell_type": "code",
      "source": [
        "N = [[10,8,5,6],[20,16,10,12]]\n",
        "N_array = np.array (N)\n",
        "N_array"
      ],
      "metadata": {
        "colab": {
          "base_uri": "https://localhost:8080/"
        },
        "id": "OESQ42jbYP4d",
        "outputId": "4db6212f-934d-47d0-8fbe-fdcb9781fba3"
      },
      "execution_count": 14,
      "outputs": [
        {
          "output_type": "execute_result",
          "data": {
            "text/plain": [
              "array([[10,  8,  5,  6],\n",
              "       [20, 16, 10, 12]])"
            ]
          },
          "metadata": {},
          "execution_count": 14
        }
      ]
    },
    {
      "cell_type": "code",
      "source": [
        "N"
      ],
      "metadata": {
        "colab": {
          "base_uri": "https://localhost:8080/"
        },
        "id": "LQgyw24iXDt5",
        "outputId": "23fd8d1a-6473-4018-9957-a54fbe303c76"
      },
      "execution_count": 5,
      "outputs": [
        {
          "output_type": "execute_result",
          "data": {
            "text/plain": [
              "[10, 8, 5, 6]"
            ]
          },
          "metadata": {},
          "execution_count": 5
        }
      ]
    },
    {
      "cell_type": "code",
      "source": [
        "N"
      ],
      "metadata": {
        "colab": {
          "base_uri": "https://localhost:8080/"
        },
        "id": "2dV4JI9ZY2e9",
        "outputId": "3ff25d8f-3572-4c99-f9eb-34d4bacdaa98"
      },
      "execution_count": 15,
      "outputs": [
        {
          "output_type": "execute_result",
          "data": {
            "text/plain": [
              "[[10, 8, 5, 6], [20, 16, 10, 12]]"
            ]
          },
          "metadata": {},
          "execution_count": 15
        }
      ]
    },
    {
      "cell_type": "code",
      "source": [
        "Lista = [10,8,5,6]   #calcular o valor de uma média\n",
        "Lista_array = np.array (Lista)\n",
        "media_lista = np.mean (Lista_array)\n",
        "media_lista"
      ],
      "metadata": {
        "colab": {
          "base_uri": "https://localhost:8080/"
        },
        "id": "0d_U4CuWZAAt",
        "outputId": "0212d15e-8e1f-4057-ea31-9b1af9c1db14"
      },
      "execution_count": 18,
      "outputs": [
        {
          "output_type": "execute_result",
          "data": {
            "text/plain": [
              "7.25"
            ]
          },
          "metadata": {},
          "execution_count": 18
        }
      ]
    },
    {
      "cell_type": "code",
      "source": [
        "nota = [7,8,9,6]\n",
        "peso = [2,2,2,4]\n",
        "nota_array = np.array(nota)\n",
        "peso_array = np.array(peso)\n",
        "media_ponderada = np.average(nota_array,weights=peso_array)  # np.average se usa para cálcular nota\n",
        "media_ponderada                                              # é usada  quando se há média para calcular"
      ],
      "metadata": {
        "colab": {
          "base_uri": "https://localhost:8080/"
        },
        "id": "9Rpt4Pzlc-u_",
        "outputId": "d7284324-fc9f-40ea-9bb5-f02a4c251354"
      },
      "execution_count": 19,
      "outputs": [
        {
          "output_type": "execute_result",
          "data": {
            "text/plain": [
              "7.2"
            ]
          },
          "metadata": {},
          "execution_count": 19
        }
      ]
    },
    {
      "cell_type": "code",
      "source": [
        "media_aritmetica = np.mean(nota_array)\n",
        "media_aritmetica"
      ],
      "metadata": {
        "colab": {
          "base_uri": "https://localhost:8080/"
        },
        "id": "dclJuH4rd37n",
        "outputId": "878c9b8a-5aac-4d9d-b97c-e9e778c93579"
      },
      "execution_count": 20,
      "outputs": [
        {
          "output_type": "execute_result",
          "data": {
            "text/plain": [
              "7.5"
            ]
          },
          "metadata": {},
          "execution_count": 20
        }
      ]
    },
    {
      "cell_type": "code",
      "source": [
        "lista = [2,3,5,6,10]\n",
        "lista_array = np.array(lista)\n",
        "mediana = np.median(lista_array)\n",
        "mediana"
      ],
      "metadata": {
        "colab": {
          "base_uri": "https://localhost:8080/"
        },
        "id": "Os1sfS8rgs9m",
        "outputId": "69b8684d-72dc-4240-ca0f-f0e8f14b837b"
      },
      "execution_count": 24,
      "outputs": [
        {
          "output_type": "execute_result",
          "data": {
            "text/plain": [
              "5.0"
            ]
          },
          "metadata": {},
          "execution_count": 24
        }
      ]
    },
    {
      "cell_type": "code",
      "source": [
        "lista_moda = [3,5,3,9,10,3,5,3,25]\n",
        "lista_array = np.array(lista_moda)\n",
        "moda = np.argmax(np.bincount(lista_array))\n",
        "moda"
      ],
      "metadata": {
        "colab": {
          "base_uri": "https://localhost:8080/"
        },
        "id": "IgBBBQUuhk3K",
        "outputId": "3ac2a566-43df-4918-a63c-c79833d6de4a"
      },
      "execution_count": 25,
      "outputs": [
        {
          "output_type": "execute_result",
          "data": {
            "text/plain": [
              "3"
            ]
          },
          "metadata": {},
          "execution_count": 25
        }
      ]
    },
    {
      "cell_type": "code",
      "source": [],
      "metadata": {
        "id": "7hEqw78Mku3o"
      },
      "execution_count": null,
      "outputs": []
    }
  ]
}