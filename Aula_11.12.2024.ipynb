{
 "cells": [
  {
   "cell_type": "code",
   "execution_count": 13,
   "metadata": {},
   "outputs": [],
   "source": [
    "import numpy as np\n",
    "import pandas as pd"
   ]
  },
  {
   "cell_type": "code",
   "execution_count": 14,
   "metadata": {},
   "outputs": [
    {
     "data": {
      "text/plain": [
       "array([2500, 3200, 2700, 3000, 3400, 3700, 4500, 4700, 5000, 5200, 6000,\n",
       "       7000])"
      ]
     },
     "execution_count": 14,
     "metadata": {},
     "output_type": "execute_result"
    }
   ],
   "source": [
    "amostra=np.array([2500,3200,2700,3000,3400,3700,4500,4700,5000,5200,6000,7000])\n",
    "amostra"
   ]
  },
  {
   "cell_type": "code",
   "execution_count": 18,
   "metadata": {},
   "outputs": [
    {
     "name": "stdout",
     "output_type": "stream",
     "text": [
      "Média:4241.666666666667\n",
      "Mediana: 4100.0\n"
     ]
    }
   ],
   "source": [
    "media=np.mean(amostra)\n",
    "mediana=np.median(amostra)\n",
    "print(f'Média:{media}')\n",
    "print(f'Mediana: {mediana}')"
   ]
  },
  {
   "cell_type": "code",
   "execution_count": 19,
   "metadata": {},
   "outputs": [
    {
     "name": "stdout",
     "output_type": "stream",
     "text": [
      "Distancia entre média: 3.46%\n"
     ]
    }
   ],
   "source": [
    "distancia=(media-mediana)/mediana*100\n",
    "print (f'Distancia entre média: {distancia:.2f}%')"
   ]
  },
  {
   "cell_type": "markdown",
   "metadata": {},
   "source": [
    "#Atividade Assistida: Crie um array com 50 números "
   ]
  },
  {
   "cell_type": "code",
   "execution_count": 22,
   "metadata": {},
   "outputs": [
    {
     "name": "stdout",
     "output_type": "stream",
     "text": [
      "Média: 4241.666666666667\n",
      "Mediana: 4100.0\n",
      "Distância entre a média e mediana: 3.46%\n",
      "Primeiro Quartil (Q1):3150.0\n",
      "Segundo Quartil (Q2):4100.0\n",
      "Terceiro Quartil  (Q3):2850.0\n",
      "Intervalo Interquartil: 1900.0\n",
      "Limite Superior:2850.0\n",
      "Limite inferior:300.0\n"
     ]
    }
   ],
   "source": [
    "#Cálculo para verificação do intervalo interquartil (iqr) e seus Limites:\n",
    "\n",
    "q1=np.percentile(amostra,25) # o primeiro quartil representa 25% do total da amsotra\n",
    "q2=np.percentile(amostra,50) # mediana pode ser interpretada como o seu segunddo quartil (quartil 50)\n",
    "q3=np.percentile(amostra,75) # o terceito quartil representa75% do total da amostra\n",
    "\n",
    "\n",
    "iqr=q3-q1\n",
    "limite_superior=q3=(1.5*iqr)\n",
    "limite_inferior=q1-(1.5*iqr)\n",
    "\n",
    "#Resum Estatistico:\n",
    "print(f'Média: {media}')\n",
    "print(f'Mediana: {mediana}')\n",
    "print(f'Distância entre a média e mediana: {distancia:.2f}%')\n",
    "print(f\"Primeiro Quartil (Q1):{q1}\")\n",
    "print(f\"Segundo Quartil (Q2):{q2}\")\n",
    "print(f\"Terceiro Quartil  (Q3):{q3}\")\n",
    "print(f\"Intervalo Interquartil: {iqr}\")\n",
    "print(f\"Limite Superior:{limite_superior}\")\n",
    "print(f\"Limite inferior:{limite_inferior}\")\n",
    "\n"
   ]
  },
  {
   "cell_type": "code",
   "execution_count": 31,
   "metadata": {},
   "outputs": [
    {
     "name": "stdout",
     "output_type": "stream",
     "text": [
      "    Valores\n",
      "0      2500\n",
      "1      3200\n",
      "2      2700\n",
      "3      3000\n",
      "4      3400\n",
      "5      3700\n",
      "6      4500\n",
      "7      4700\n",
      "8      5000\n",
      "9      5200\n",
      "10     6000\n",
      "11     7000\n"
     ]
    }
   ],
   "source": [
    "amostra_df=pd.DataFrame(amostra, columns=['Valores'])\n",
    "print(amostra_df)\n"
   ]
  },
  {
   "cell_type": "code",
   "execution_count": 23,
   "metadata": {},
   "outputs": [
    {
     "name": "stdout",
     "output_type": "stream",
     "text": [
      "A média está FORA do intervalo interquartil , o que sugere MENOS confiabiidade\n"
     ]
    }
   ],
   "source": [
    "#Intervalo Interquartil:\n",
    "\n",
    "if q1 <= media <= q3:\n",
    "    print(\"A média esta DENTRO do intervalo interquartil, o que sugere confiabilidae\")\n",
    "else:\n",
    "    print(\"A média está FORA do intervalo interquartil , o que sugere MENOS confiabiidade\")"
   ]
  },
  {
   "cell_type": "markdown",
   "metadata": {},
   "source": [
    "CRIE UM ARRAY COM 200 NUMEROS ALEATORIOS:"
   ]
  },
  {
   "cell_type": "code",
   "execution_count": 27,
   "metadata": {},
   "outputs": [
    {
     "name": "stdout",
     "output_type": "stream",
     "text": [
      "[88 47 67 29  5 46 20 70 43 76 63 22 56 47 53 45 26 12 38 94 15 44 90 33\n",
      " 75 13 52 90 87 69 29 22 48 28 23 30 57 46 33 69  3 69 81 30 19 89 68 18\n",
      "  8 51 90 67  1 95 97 20 28 32 55 47 62 57 41 42 85 86 56 41 10 32 66 95\n",
      " 65 78 85 13 98 48 13 96 77 47 86 68 61 49 96  5  2  6 31  5 62 85 45 67\n",
      " 76 10 68 61 82 54  4 41 81 84 34 30 29 20 74 54 22 91  7 48 47 67 58 32\n",
      " 67 19 76 81 63 52 84 77 12 97 75 85 33 76 98 65 57 40 69 16  2 20 40 18\n",
      " 95 88 56 85 92 74 52 89 85 40 45 63 56 34 34  0 17 44 94  1 64  9 35 86\n",
      " 60 73 34 84 49 51 60  4  0 30 31  8 46 11 60 54 22 18 56 60 80 64 67 41\n",
      " 70 32 84 87 70 74 73 41]\n"
     ]
    }
   ],
   "source": [
    "array_r = np.random.randint(0,100,200)\n",
    "print(array_r)"
   ]
  },
  {
   "cell_type": "code",
   "execution_count": 32,
   "metadata": {},
   "outputs": [
    {
     "name": "stdout",
     "output_type": "stream",
     "text": [
      "    Valores\n",
      "0      2500\n",
      "1      3200\n",
      "2      2700\n",
      "3      3000\n",
      "4      3400\n",
      "5      3700\n",
      "6      4500\n",
      "7      4700\n",
      "8      5000\n",
      "9      5200\n",
      "10     6000\n",
      "11     7000\n"
     ]
    }
   ],
   "source": [
    "array_r = np.random.randint(10, 3500, 1200)\n",
    "\n",
    "amostra_df=pd.DataFrame(amostra, columns=['Valores'])\n",
    "print(amostra_df)\n"
   ]
  },
  {
   "cell_type": "code",
   "execution_count": 33,
   "metadata": {},
   "outputs": [
    {
     "name": "stdout",
     "output_type": "stream",
     "text": [
      "Menor Valor:2500\n",
      "Maior Valor:7000\n",
      "Amplitude:4500\n"
     ]
    }
   ],
   "source": [
    "\n",
    "valor_maximo=amostra_df['Valores'].max()\n",
    "valor_minimo=amostra_df['Valores'].min()\n",
    "amplitude_total=valor_maximo-valor_minimo\n",
    "\n",
    "print(f'Menor Valor:{valor_minimo}')\n",
    "print(f'Maior Valor:{valor_maximo}')\n",
    "print(f'Amplitude:{amplitude_total}')"
   ]
  },
  {
   "cell_type": "code",
   "execution_count": null,
   "metadata": {},
   "outputs": [],
   "source": []
  }
 ],
 "metadata": {
  "kernelspec": {
   "display_name": "Python 3",
   "language": "python",
   "name": "python3"
  },
  "language_info": {
   "codemirror_mode": {
    "name": "ipython",
    "version": 3
   },
   "file_extension": ".py",
   "mimetype": "text/x-python",
   "name": "python",
   "nbconvert_exporter": "python",
   "pygments_lexer": "ipython3",
   "version": "3.11.4"
  },
  "orig_nbformat": 4
 },
 "nbformat": 4,
 "nbformat_minor": 2
}
